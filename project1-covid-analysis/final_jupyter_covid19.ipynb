{
  "cells": [
    {
      "cell_type": "markdown",
      "id": "57b62b46-4976-4c41-9281-a6f93c1447c2",
      "metadata": {},
      "source": [
        "<center>\n",
        "<img src=\"https://cf-courses-data.s3.us.cloud-object-storage.appdomain.cloud/IBMDeveloperSkillsNetwork-RP0101EN-Coursera/v2/M5_Final/images/SN_web_lightmode.png\" width=\"300\">\n",
        "</center>\n"
      ]
    },
    {
      "cell_type": "markdown",
      "id": "9dcffd81-2371-47f1-a7a8-93f9840607f1",
      "metadata": {},
      "source": [
        "<h1>Analysis of Global COVID-19 Pandemic Data</h1>\n",
        "\n",
        "Estimated time needed: **90** minutes\n",
        "\n"
      ]
    },
    {
      "cell_type": "markdown",
      "id": "f1d0b697-0ce9-4444-a210-324ad8edb3fb",
      "metadata": {},
      "source": [
        "## Overview:\n",
        "\n",
        "There are 10 tasks in this final project. All tasks will be graded by your peers who are also completing this assignment within the same session.\n",
        "\n",
        "You need to submit the following the screenshot for the code and output for each task for review.\n",
        "\n",
        "If you need to refresh your memories about specific coding details, you may refer to previous hands-on labs for code examples.\n"
      ]
    },
    {
      "cell_type": "code",
      "execution_count": 1,
      "id": "ea3ee237-87c1-42b9-bde4-68f9ea487279",
      "metadata": {
        "vscode": {
          "languageId": "r"
        }
      },
      "outputs": [],
      "source": [
        "# This lab requires 'httr' and 'rvest'packages, which are already pre-loaded into this lab environment.\n",
        "# However, if you are working on your local RStudio, please uncomment the below codes and install the packages.\n",
        "\n",
        "#install.packages(\"httr\")\n",
        "#install.packages(\"rvest\")"
      ]
    },
    {
      "cell_type": "code",
      "execution_count": 2,
      "id": "3bf7b159-a737-4e0d-8466-6be869f8e9be",
      "metadata": {
        "vscode": {
          "languageId": "r"
        }
      },
      "outputs": [],
      "source": [
        "library(httr)\n",
        "library(rvest)"
      ]
    },
    {
      "cell_type": "markdown",
      "id": "1472c4a4-2bd7-41c1-a6dc-381a8b1856d4",
      "metadata": {},
      "source": [
        "Note: if you can import above libraries, please use install.packages() to install them first.\n"
      ]
    },
    {
      "cell_type": "markdown",
      "id": "6658c949-5639-48af-b0cd-fdf4939da49f",
      "metadata": {},
      "source": [
        "## TASK 1: Get a `COVID-19 pandemic` Wiki page using HTTP request\n"
      ]
    },
    {
      "cell_type": "markdown",
      "id": "8304c4f8-2f85-4334-bb03-cc86febbe33c",
      "metadata": {},
      "source": [
        "First, let's write a function to use HTTP request to get a public COVID-19 Wiki page.\n",
        "\n",
        "Before you write the function, you can open this public page from this \n",
        "\n",
        "URL https://en.wikipedia.org/w/index.php?title=Template:COVID-19_testing_by_country using a web browser.\n",
        "\n",
        "The goal of task 1 is to get the html page using HTTP request (`httr` library)\n"
      ]
    },
    {
      "cell_type": "code",
      "execution_count": 3,
      "id": "54f8882f-6042-4e6c-afb2-1646ed9c3faa",
      "metadata": {
        "vscode": {
          "languageId": "r"
        }
      },
      "outputs": [],
      "source": [
        "\n",
        "get_wiki_covid19_page <- function() {\n",
        "    \n",
        "  # Our target COVID-19 wiki page URL is: https://en.wikipedia.org/w/index.php?title=Template:COVID-19_testing_by_country  \n",
        "  # Which has two parts: \n",
        "    # 1) base URL `https://en.wikipedia.org/w/index.php  \n",
        "    # 2) URL parameter: `title=Template:COVID-19_testing_by_country`, seperated by question mark ?\n",
        "    \n",
        "  # Wiki page base\n",
        "  wiki_base_url <- \"https://en.wikipedia.org/w/index.php\"\n",
        "  # You will need to create a List which has an element called `title` to specify which page you want to get from Wiki\n",
        "  # in our case, it will be `Template:COVID-19_testing_by_country`\n",
        "  query_params <- list(title = \"Template:COVID-19_testing_by_country\")\n",
        " \n",
        "  # - Use the `GET` function in httr library with a `url` argument and a `query` arugment to get a HTTP response\n",
        "  response <- GET(url = wiki_base_url, query = query_params)\n",
        "    \n",
        "  # Use the `return` function to return the response\n",
        "  return(response)\n",
        "}\n",
        "\n",
        "\n"
      ]
    },
    {
      "cell_type": "markdown",
      "id": "4d5b7b7f-7820-4ba5-bde9-6c4936b153bd",
      "metadata": {},
      "source": [
        "Call the `get_wiki_covid19_page` function to get a http response with the target html page\n"
      ]
    },
    {
      "cell_type": "code",
      "execution_count": 4,
      "id": "8ed184ae-762c-4b3d-b0e0-f54a9449b13d",
      "metadata": {
        "vscode": {
          "languageId": "r"
        }
      },
      "outputs": [
        {
          "name": "stdout",
          "output_type": "stream",
          "text": [
            "Response [https://en.wikipedia.org/w/index.php?title=Template%3ACOVID-19_testing_by_country]\n",
            "  Date: 2025-10-23 10:09\n",
            "  Status: 200\n",
            "  Content-Type: text/html; charset=UTF-8\n",
            "  Size: 457 kB\n",
            "<!DOCTYPE html>\n",
            "<html class=\"client-nojs vector-feature-language-in-header-enabled vector-fea...\n",
            "<head>\n",
            "<meta charset=\"UTF-8\">\n",
            "<title>Template:COVID-19 testing by country - Wikipedia</title>\n",
            "<script>(function(){var className=\"client-js vector-feature-language-in-heade...\n",
            "RLSTATE={\"ext.globalCssJs.user.styles\":\"ready\",\"site.styles\":\"ready\",\"user.st...\n",
            "<script>(RLQ=window.RLQ||[]).push(function(){mw.loader.impl(function(){return...\n",
            "}];});});</script>\n",
            "<link rel=\"stylesheet\" href=\"/w/load.php?lang=en&amp;modules=ext.cite.styles%...\n",
            "...\n"
          ]
        }
      ],
      "source": [
        "# Call the get_wiki_covid19_page function and print the response\n",
        "response <- get_wiki_covid19_page()\n",
        "print(response)"
      ]
    },
    {
      "cell_type": "markdown",
      "id": "826f472b-b84d-4e76-8cd6-a210032f3b2f",
      "metadata": {},
      "source": [
        "## TASK 2: Extract COVID-19 testing data table from the wiki HTML page\n"
      ]
    },
    {
      "cell_type": "markdown",
      "id": "dc7ecad0-3a4a-402d-9200-76b7e209008b",
      "metadata": {},
      "source": [
        "On the COVID-19 testing wiki page, you should see a data table `<table>` node contains COVID-19 testing data by country on the page:\n",
        "\n",
        "<a href=\"https://cognitiveclass.ai/\">\n",
        "    <img src=\"https://cf-courses-data.s3.us.cloud-object-storage.appdomain.cloud/IBMDeveloperSkillsNetwork-RP0101EN-Coursera/v2/M5_Final/images/covid-19-by-country.png\" width=\"400\" align=\"center\">\n",
        "</a>\n",
        "\n",
        "Note the numbers you actually see on your page may be different from above because it is still an on-going pandemic when creating this notebook.\n",
        "\n",
        "The goal of task 2 is to extract above data table and convert it into a data frame\n"
      ]
    },
    {
      "cell_type": "markdown",
      "id": "07ed8eae-cf66-41ac-b838-977a361b5159",
      "metadata": {},
      "source": [
        "Now use the `read_html` function in rvest library to get the root html node from response\n"
      ]
    },
    {
      "cell_type": "code",
      "execution_count": 5,
      "id": "534a1dfc-81c9-4fb1-aee2-20c35a1c5a13",
      "metadata": {
        "vscode": {
          "languageId": "r"
        }
      },
      "outputs": [
        {
          "name": "stdout",
          "output_type": "stream",
          "text": [
            "{html_document}\n",
            "<html class=\"client-nojs vector-feature-language-in-header-enabled vector-feature-language-in-main-page-header-disabled vector-feature-page-tools-pinned-disabled vector-feature-toc-pinned-clientpref-1 vector-feature-main-menu-pinned-disabled vector-feature-limited-width-clientpref-1 vector-feature-limited-width-content-enabled vector-feature-custom-font-size-clientpref-1 vector-feature-appearance-pinned-clientpref-1 vector-feature-night-mode-enabled skin-theme-clientpref-day vector-sticky-header-enabled vector-toc-available\" lang=\"en\" dir=\"ltr\">\n",
            "[1] <head>\\n<meta http-equiv=\"Content-Type\" content=\"text/html; charset=UTF-8 ...\n",
            "[2] <body class=\"skin--responsive skin-vector skin-vector-search-vue mediawik ...\n"
          ]
        }
      ],
      "source": [
        "# Get the root html node from the http response in task 1 \n",
        "root_node <- read_html(response)\n",
        "print(root_node)"
      ]
    },
    {
      "cell_type": "markdown",
      "id": "8dfd59ba-4c94-4ee1-9fb3-e194075db92d",
      "metadata": {},
      "source": [
        "Get the tables in the HTML root node using `html_nodes` function.\n"
      ]
    },
    {
      "cell_type": "code",
      "execution_count": 6,
      "id": "7e9b3225-521a-4be6-a000-758a11704e35",
      "metadata": {
        "vscode": {
          "languageId": "r"
        }
      },
      "outputs": [
        {
          "name": "stdout",
          "output_type": "stream",
          "text": [
            "[1] 4\n"
          ]
        }
      ],
      "source": [
        "# Get the table node from the root html node\n",
        "table_node <- html_nodes(root_node, \"table\")\n",
        "print(length(table_node))"
      ]
    },
    {
      "cell_type": "markdown",
      "id": "452b5d7a-b82b-4aeb-9313-83d6da59c8f9",
      "metadata": {},
      "source": [
        "Read the specific table from the multiple tables in the `table_node` using the `html_table` function and convert it into dataframe using `as.data.frame`\n",
        "\n",
        "_Hint:- Please read the `table_node` with index 2(ex:- table_node[2])._\n"
      ]
    },
    {
      "cell_type": "code",
      "execution_count": 7,
      "id": "5e82c535-d476-4ce4-9bee-8ad85e0d787a",
      "metadata": {
        "vscode": {
          "languageId": "r"
        }
      },
      "outputs": [
        {
          "name": "stdout",
          "output_type": "stream",
          "text": [
            "    Country or region     Date[a]  Tested Units[b] Confirmed(cases)\n",
            "1         Afghanistan 17 Dec 2020 154,767  samples           49,621\n",
            "2             Albania 18 Feb 2021 428,654  samples           96,838\n",
            "3             Algeria  2 Nov 2020 230,553  samples           58,574\n",
            "4             Andorra 23 Feb 2022 300,307  samples           37,958\n",
            "5              Angola  2 Feb 2021 399,228  samples           20,981\n",
            "6 Antigua and Barbuda  6 Mar 2021  15,268  samples              832\n",
            "  Confirmed /tested,% Tested /population,% Confirmed /population,%   Ref.\n",
            "1                32.1                 0.40                    0.13    [1]\n",
            "2                22.6                 15.0                     3.4    [2]\n",
            "3                25.4                 0.53                    0.13 [3][4]\n",
            "4                12.6                  387                    49.0    [5]\n",
            "5                 5.3                  1.3                   0.067    [6]\n",
            "6                 5.4                 15.9                    0.86    [7]\n"
          ]
        }
      ],
      "source": [
        "# Read the table node and convert it into a data frame, and print the data frame for review\n",
        "covid_data_frame_html <- html_table(table_node[2], fill = TRUE)[[1]]\n",
        "covid_data_frame_html <- as.data.frame(covid_data_frame_html)\n",
        "print(head(covid_data_frame_html))"
      ]
    },
    {
      "cell_type": "markdown",
      "id": "ffff7698-93e1-44f8-ad81-f5c98fcaa4ed",
      "metadata": {},
      "source": [
        "## TASK 3: Pre-process and export the extracted data frame\n",
        "\n",
        "The goal of task 3 is to pre-process the extracted data frame from the previous step, and export it as a csv file\n"
      ]
    },
    {
      "cell_type": "markdown",
      "id": "aa90416a-a1d9-4047-92d0-b8fe086d136c",
      "metadata": {},
      "source": [
        "Let's get a summary of the data frame\n"
      ]
    },
    {
      "cell_type": "code",
      "execution_count": 8,
      "id": "5f09cc58-a2d5-4ac4-aa1d-e7ccb71915af",
      "metadata": {
        "vscode": {
          "languageId": "r"
        }
      },
      "outputs": [
        {
          "data": {
            "text/plain": [
              " Country or region    Date[a]             Tested            Units[b]        \n",
              " Length:173         Length:173         Length:173         Length:173        \n",
              " Class :character   Class :character   Class :character   Class :character  \n",
              " Mode  :character   Mode  :character   Mode  :character   Mode  :character  \n",
              " Confirmed(cases)   Confirmed /tested,% Tested /population,%\n",
              " Length:173         Length:173          Length:173          \n",
              " Class :character   Class :character    Class :character    \n",
              " Mode  :character   Mode  :character    Mode  :character    \n",
              " Confirmed /population,%     Ref.          \n",
              " Length:173              Length:173        \n",
              " Class :character        Class :character  \n",
              " Mode  :character        Mode  :character  "
            ]
          },
          "metadata": {},
          "output_type": "display_data"
        },
        {
          "name": "stdout",
          "output_type": "stream",
          "text": [
            "[1] \"Country or region\"       \"Date[a]\"                \n",
            "[3] \"Tested\"                  \"Units[b]\"               \n",
            "[5] \"Confirmed(cases)\"        \"Confirmed /tested,%\"    \n",
            "[7] \"Tested /population,%\"    \"Confirmed /population,%\"\n",
            "[9] \"Ref.\"                   \n"
          ]
        }
      ],
      "source": [
        "# Print the summary of the data frame\n",
        "summary(covid_data_frame_html)\n",
        "print(colnames(covid_data_frame_html))"
      ]
    },
    {
      "cell_type": "markdown",
      "id": "8c8b077e-8d1f-4cff-863c-cd9a5a94a017",
      "metadata": {},
      "source": [
        "As you can see from the summary, the columns names are little bit different to understand and some column data types are not correct. For example, the `Tested` column shows as `character`. \n",
        "\n",
        "As such, the data frame read from HTML table will need some pre-processing such as removing irrelvant columns, renaming columns, and convert columns into proper data types.\n"
      ]
    },
    {
      "cell_type": "markdown",
      "id": "c0e58c3c-0f3f-41ed-bded-f619456ea1c4",
      "metadata": {},
      "source": [
        "We have prepared a pre-processing function for you to conver the data frame but you can also try to write one by yourself\n"
      ]
    },
    {
      "cell_type": "code",
      "execution_count": 9,
      "id": "e93bbc03-f6f5-4159-b1f1-9d6e8af401e3",
      "metadata": {
        "vscode": {
          "languageId": "r"
        }
      },
      "outputs": [],
      "source": [
        "preprocess_covid_data_frame <- function(data_frame) {\n",
        "    \n",
        "    shape <- dim(data_frame)\n",
        "\n",
        "    # Remove the World row\n",
        "    data_frame<-data_frame[!(data_frame$`Country.or.region`==\"World\"),]\n",
        "    # Remove the last row\n",
        "    data_frame <- data_frame[1:172, ]\n",
        "    \n",
        "    # We dont need the Units and Ref columns, so can be removed\n",
        "    data_frame[\"Ref.\"] <- NULL\n",
        "    data_frame[\"Units.b.\"] <- NULL\n",
        "    \n",
        "    # Renaming the columns\n",
        "    names(data_frame) <- c(\"country\", \"date\", \"tested\", \"confirmed\", \"confirmed.tested.ratio\", \"tested.population.ratio\", \"confirmed.population.ratio\")\n",
        "    \n",
        "    # Convert column data types\n",
        "    data_frame$country <- as.factor(data_frame$country)\n",
        "    data_frame$date <- as.factor(data_frame$date)\n",
        "    data_frame$tested <- as.numeric(gsub(\",\",\"\",data_frame$tested))\n",
        "    data_frame$confirmed <- as.numeric(gsub(\",\",\"\",data_frame$confirmed))\n",
        "    data_frame$'confirmed.tested.ratio' <- as.numeric(gsub(\",\",\"\",data_frame$`confirmed.tested.ratio`))\n",
        "    data_frame$'tested.population.ratio' <- as.numeric(gsub(\",\",\"\",data_frame$`tested.population.ratio`))\n",
        "    data_frame$'confirmed.population.ratio' <- as.numeric(gsub(\",\",\"\",data_frame$`confirmed.population.ratio`))\n",
        "    \n",
        "    return(data_frame)\n",
        "}\n"
      ]
    },
    {
      "cell_type": "markdown",
      "id": "6ea581c8-3dd8-4729-95fc-cbb88a4bccad",
      "metadata": {},
      "source": [
        "Call the `preprocess_covid_data_frame` function\n"
      ]
    },
    {
      "cell_type": "code",
      "execution_count": 10,
      "id": "a74e9267-6f30-4dca-bb05-c3a44c72a21c",
      "metadata": {
        "vscode": {
          "languageId": "r"
        }
      },
      "outputs": [
        {
          "name": "stdout",
          "output_type": "stream",
          "text": [
            "     country date tested confirmed confirmed.tested.ratio\n",
            "NA      <NA> <NA>     NA        NA                     NA\n",
            "NA.1    <NA> <NA>     NA        NA                     NA\n",
            "NA.2    <NA> <NA>     NA        NA                     NA\n",
            "NA.3    <NA> <NA>     NA        NA                     NA\n",
            "NA.4    <NA> <NA>     NA        NA                     NA\n",
            "NA.5    <NA> <NA>     NA        NA                     NA\n",
            "     tested.population.ratio confirmed.population.ratio <NA>\n",
            "NA                        NA                         NA <NA>\n",
            "NA.1                      NA                         NA <NA>\n",
            "NA.2                      NA                         NA <NA>\n",
            "NA.3                      NA                         NA <NA>\n",
            "NA.4                      NA                         NA <NA>\n",
            "NA.5                      NA                         NA <NA>\n"
          ]
        }
      ],
      "source": [
        "# call `preprocess_covid_data_frame` function and assign it to a new data frame\n",
        "covid_data_frame_csv <- preprocess_covid_data_frame(covid_data_frame_html)\n",
        "print(head(covid_data_frame_csv))"
      ]
    },
    {
      "cell_type": "markdown",
      "id": "65cb5c8c-c010-49c7-b731-3e3f47bd9aa2",
      "metadata": {},
      "source": [
        "Get the summary of the processed data frame again\n"
      ]
    },
    {
      "cell_type": "code",
      "execution_count": 11,
      "id": "6f65dff3-bae9-4d97-9e0e-47c3b2e0695c",
      "metadata": {
        "vscode": {
          "languageId": "r"
        }
      },
      "outputs": [
        {
          "data": {
            "text/plain": [
              " country      date         tested      confirmed   confirmed.tested.ratio\n",
              " NA's:172   NA's:172   Min.   : NA   Min.   : NA   Min.   : NA           \n",
              "                       1st Qu.: NA   1st Qu.: NA   1st Qu.: NA           \n",
              "                       Median : NA   Median : NA   Median : NA           \n",
              "                       Mean   :NaN   Mean   :NaN   Mean   :NaN           \n",
              "                       3rd Qu.: NA   3rd Qu.: NA   3rd Qu.: NA           \n",
              "                       Max.   : NA   Max.   : NA   Max.   : NA           \n",
              "                       NA's   :172   NA's   :172   NA's   :172           \n",
              " tested.population.ratio confirmed.population.ratio      NA           \n",
              " Min.   : NA             Min.   : NA                Length:172        \n",
              " 1st Qu.: NA             1st Qu.: NA                Class :character  \n",
              " Median : NA             Median : NA                Mode  :character  \n",
              " Mean   :NaN             Mean   :NaN                                  \n",
              " 3rd Qu.: NA             3rd Qu.: NA                                  \n",
              " Max.   : NA             Max.   : NA                                  \n",
              " NA's   :172             NA's   :172                                  "
            ]
          },
          "metadata": {},
          "output_type": "display_data"
        },
        {
          "name": "stdout",
          "output_type": "stream",
          "text": [
            "[1] \"country\"                    \"date\"                      \n",
            "[3] \"tested\"                     \"confirmed\"                 \n",
            "[5] \"confirmed.tested.ratio\"     \"tested.population.ratio\"   \n",
            "[7] \"confirmed.population.ratio\" NA                          \n"
          ]
        }
      ],
      "source": [
        "# Print the summary of the processed data frame again\n",
        "summary(covid_data_frame_csv)\n",
        "print(colnames(covid_data_frame_csv))"
      ]
    },
    {
      "cell_type": "markdown",
      "id": "3b2cdbe2-5f38-491b-8448-0821d21f2a02",
      "metadata": {},
      "source": [
        "After pre-processing, you can see the columns and columns names are simplified, and columns types are converted into correct types.\n"
      ]
    },
    {
      "cell_type": "markdown",
      "id": "9edfc9b0-44f8-4545-a05d-bb554c6a2fd5",
      "metadata": {},
      "source": [
        "The data frame has following columns:\n",
        "\n",
        "- **country** - The name of the country\n",
        "- **date** - Reported date\n",
        "- **tested** - Total tested cases by the reported date\n",
        "- **confirmed** - Total confirmed cases by the reported date\n",
        "- **confirmed.tested.ratio** - The ratio of confirmed cases to the tested cases\n",
        "- **tested.population.ratio** - The ratio of tested cases to the population of the country\n",
        "- **confirmed.population.ratio** - The ratio of confirmed cases to the population of the country\n"
      ]
    },
    {
      "cell_type": "markdown",
      "id": "a0761862-0478-4583-b2d4-9ee9080f9d9d",
      "metadata": {},
      "source": [
        "OK, we can call `write.csv()` function to save the csv file into a file. \n"
      ]
    },
    {
      "cell_type": "code",
      "execution_count": 12,
      "id": "3fef4620-019b-41f7-838a-07ca1bca9ac1",
      "metadata": {
        "vscode": {
          "languageId": "r"
        }
      },
      "outputs": [
        {
          "name": "stdout",
          "output_type": "stream",
          "text": [
            "[1] \"Data exported to covid.csv\"\n"
          ]
        }
      ],
      "source": [
        "# Export the data frame to a csv file\n",
        "write.csv(covid_data_frame_csv, \"covid.csv\", row.names = FALSE)\n",
        "print(\"Data exported to covid.csv\")"
      ]
    },
    {
      "cell_type": "markdown",
      "id": "790e85c1-6936-461a-8589-d7da2b2a3420",
      "metadata": {},
      "source": [
        "Note for IBM Waston Studio, there is no traditional \"hard disk\" associated with a R workspace.\n",
        "\n",
        "Even if you call `write.csv()` method to save the data frame as a csv file, it won't be shown in IBM Cloud Object Storage asset UI automatically.\n",
        "\n",
        "However, you may still check if the `covid.csv` exists using following code snippet:\n"
      ]
    },
    {
      "cell_type": "code",
      "execution_count": 13,
      "id": "65a4bedb-b064-4b32-bd8e-ce083d104448",
      "metadata": {
        "vscode": {
          "languageId": "r"
        }
      },
      "outputs": [
        {
          "name": "stdout",
          "output_type": "stream",
          "text": [
            "[1] \"c:/Users/Diaa/data.science.with.r/covid.csv\"\n"
          ]
        },
        {
          "data": {
            "text/html": [
              "TRUE"
            ],
            "text/latex": [
              "TRUE"
            ],
            "text/markdown": [
              "TRUE"
            ],
            "text/plain": [
              "[1] TRUE"
            ]
          },
          "metadata": {},
          "output_type": "display_data"
        }
      ],
      "source": [
        "# Get working directory\n",
        "wd <- getwd()\n",
        "# Get exported \n",
        "file_path <- paste(wd, sep=\"\", \"/covid.csv\")\n",
        "# File path\n",
        "print(file_path)\n",
        "file.exists(file_path)"
      ]
    },
    {
      "cell_type": "markdown",
      "id": "86c9db97-3081-4311-9c4d-52787ccc0eb7",
      "metadata": {},
      "source": [
        "**Optional Step**: If you have difficulties finishing above webscraping tasks, you may still continue with next tasks by downloading a provided csv file from here:\n"
      ]
    },
    {
      "cell_type": "code",
      "execution_count": 14,
      "id": "841ecb2e-f5f4-4bc9-8783-798facce8df0",
      "metadata": {
        "vscode": {
          "languageId": "r"
        }
      },
      "outputs": [],
      "source": [
        "## Download a sample csv file\n",
        "# covid_csv_file <- download.file(\"https://cf-courses-data.s3.us.cloud-object-storage.appdomain.cloud/IBMDeveloperSkillsNetwork-RP0101EN-Coursera/v2/dataset/covid.csv\", destfile=\"covid.csv\")\n",
        "# covid_data_frame_csv <- read.csv(\"covid.csv\", header=TRUE, sep=\",\")"
      ]
    },
    {
      "cell_type": "markdown",
      "id": "603dfbf4-530d-4293-99fb-f5e75e28c974",
      "metadata": {},
      "source": [
        "## TASK 4: Get a subset of the extracted data frame\n",
        "\n",
        "The goal of task 4 is to get the 5th to 10th rows from the data frame with only `country` and `confirmed` columns selected\n"
      ]
    },
    {
      "cell_type": "code",
      "execution_count": 15,
      "id": "bbb34235-655e-47f0-b3b2-4502f4cf353b",
      "metadata": {
        "vscode": {
          "languageId": "r"
        }
      },
      "outputs": [
        {
          "name": "stdout",
          "output_type": "stream",
          "text": [
            "   country confirmed\n",
            "5       NA        NA\n",
            "6       NA        NA\n",
            "7       NA        NA\n",
            "8       NA        NA\n",
            "9       NA        NA\n",
            "10      NA        NA\n"
          ]
        }
      ],
      "source": [
        "# Read covid_data_frame_csv from the csv file\n",
        "covid_data_frame_csv <- read.csv(\"covid.csv\", header=TRUE, sep=\",\")\n",
        "\n",
        "# Get the 5th to 10th rows, with two \"country\" \"confirmed\" columns\n",
        "subset_data <- covid_data_frame_csv[5:10, c(\"country\", \"confirmed\")]\n",
        "print(subset_data)"
      ]
    },
    {
      "cell_type": "markdown",
      "id": "86b9f45c-2892-4205-a1ff-09b60a1a4e12",
      "metadata": {},
      "source": [
        "## TASK 5: Calculate worldwide COVID testing positive ratio\n",
        "\n",
        "The goal of task 5 is to get the total confirmed and tested cases worldwide, and try to figure the overall positive ratio using `confirmed cases / tested cases`\n"
      ]
    },
    {
      "cell_type": "code",
      "execution_count": 16,
      "id": "2dc8361f-81f3-4feb-966e-15e28e32dcb3",
      "metadata": {
        "vscode": {
          "languageId": "r"
        }
      },
      "outputs": [
        {
          "name": "stdout",
          "output_type": "stream",
          "text": [
            "[1] \"Total confirmed cases worldwide: 0\"\n",
            "[1] \"Total tested cases worldwide: 0\"\n"
          ]
        },
        {
          "name": "stdout",
          "output_type": "stream",
          "text": [
            "[1] \"Worldwide positive ratio: NaN\"\n"
          ]
        }
      ],
      "source": [
        "# Get the total confirmed cases worldwide\n",
        "total_confirmed <- sum(covid_data_frame_csv$confirmed, na.rm = TRUE)\n",
        "print(paste(\"Total confirmed cases worldwide:\", total_confirmed))\n",
        "\n",
        "# Get the total tested cases worldwide\n",
        "total_tested <- sum(covid_data_frame_csv$tested, na.rm = TRUE)\n",
        "print(paste(\"Total tested cases worldwide:\", total_tested))\n",
        "\n",
        "# Get the positive ratio (confirmed / tested)\n",
        "positive_ratio <- total_confirmed / total_tested\n",
        "print(paste(\"Worldwide positive ratio:\", round(positive_ratio, 4)))"
      ]
    },
    {
      "cell_type": "markdown",
      "id": "9b5c1ade-4e4f-433b-b6c2-765f599733a7",
      "metadata": {},
      "source": [
        "## TASK 6: Get a country list which reported their testing data \n",
        "\n",
        "The goal of task 6 is to get a catalog or sorted list of countries who have reported their COVID-19 testing data\n"
      ]
    },
    {
      "cell_type": "code",
      "execution_count": 17,
      "id": "92c50f1d-af07-444b-881d-d2bf5095d31b",
      "metadata": {
        "vscode": {
          "languageId": "r"
        }
      },
      "outputs": [
        {
          "name": "stdout",
          "output_type": "stream",
          "text": [
            "[1] \"Class of country column: logical\"\n"
          ]
        },
        {
          "name": "stdout",
          "output_type": "stream",
          "text": [
            "[1] \"Countries sorted Z to A:\"\n",
            "character(0)\n"
          ]
        }
      ],
      "source": [
        "# Get the `country` column\n",
        "countries <- covid_data_frame_csv$country\n",
        "\n",
        "# Check its class (should be Factor)\n",
        "print(paste(\"Class of country column:\", class(countries)))\n",
        "\n",
        "# Conver the country column into character so that you can easily sort them\n",
        "countries_char <- as.character(countries)\n",
        "\n",
        "# Sort the countries AtoZ\n",
        "countries_sorted_asc <- sort(countries_char)\n",
        "\n",
        "# Sort the countries ZtoA\n",
        "countries_sorted_desc <- sort(countries_char, decreasing = TRUE)\n",
        "\n",
        "# Print the sorted ZtoA list\n",
        "print(\"Countries sorted Z to A:\")\n",
        "print(head(countries_sorted_desc, 10))"
      ]
    },
    {
      "cell_type": "markdown",
      "id": "fc4e6442-f5fc-4c93-aa44-e4823ce0e408",
      "metadata": {},
      "source": [
        "## TASK 7: Identify countries names with a specific pattern\n",
        "\n",
        "The goal of task 7 is using a regular expression to find any countires start with `United`\n"
      ]
    },
    {
      "cell_type": "code",
      "execution_count": 18,
      "id": "60318164-e582-4ecc-aba7-ccd9f1458e14",
      "metadata": {
        "vscode": {
          "languageId": "r"
        }
      },
      "outputs": [
        {
          "name": "stdout",
          "output_type": "stream",
          "text": [
            "[1] \"Countries starting with 'United':\"\n",
            "character(0)\n"
          ]
        }
      ],
      "source": [
        "# Use a regular expression `United.+` to find matches\n",
        "countries_with_united <- grep(\"^United.+\", countries_char, value = TRUE)\n",
        "\n",
        "# Print the matched country names\n",
        "print(\"Countries starting with 'United':\")\n",
        "print(countries_with_united)"
      ]
    },
    {
      "cell_type": "markdown",
      "id": "e14f54f6-6f43-415e-9b8d-dc964a2c1d02",
      "metadata": {},
      "source": [
        "## TASK 8: Pick two countries you are interested, and then review their testing data\n",
        "\n",
        "The goal of task 8 is to compare the COVID-19 test data between two countires, you will need to select two rows from the dataframe, and select `country`, `confirmed`, `confirmed-population-ratio` columns\n"
      ]
    },
    {
      "cell_type": "code",
      "execution_count": 19,
      "id": "8b7e2213-36c6-4008-bc2d-fae420f28559",
      "metadata": {
        "vscode": {
          "languageId": "r"
        }
      },
      "outputs": [
        {
          "name": "stdout",
          "output_type": "stream",
          "text": [
            "[1] \"United States data:\"\n"
          ]
        },
        {
          "name": "stdout",
          "output_type": "stream",
          "text": [
            "       country confirmed confirmed.population.ratio\n",
            "NA          NA        NA                         NA\n",
            "NA.1        NA        NA                         NA\n",
            "NA.2        NA        NA                         NA\n",
            "NA.3        NA        NA                         NA\n",
            "NA.4        NA        NA                         NA\n",
            "NA.5        NA        NA                         NA\n",
            "NA.6        NA        NA                         NA\n",
            "NA.7        NA        NA                         NA\n",
            "NA.8        NA        NA                         NA\n",
            "NA.9        NA        NA                         NA\n",
            "NA.10       NA        NA                         NA\n",
            "NA.11       NA        NA                         NA\n",
            "NA.12       NA        NA                         NA\n",
            "NA.13       NA        NA                         NA\n",
            "NA.14       NA        NA                         NA\n",
            "NA.15       NA        NA                         NA\n",
            "NA.16       NA        NA                         NA\n",
            "NA.17       NA        NA                         NA\n",
            "NA.18       NA        NA                         NA\n",
            "NA.19       NA        NA                         NA\n",
            "NA.20       NA        NA                         NA\n",
            "NA.21       NA        NA                         NA\n",
            "NA.22       NA        NA                         NA\n",
            "NA.23       NA        NA                         NA\n",
            "NA.24       NA        NA                         NA\n",
            "NA.25       NA        NA                         NA\n",
            "NA.26       NA        NA                         NA\n",
            "NA.27       NA        NA                         NA\n",
            "NA.28       NA        NA                         NA\n",
            "NA.29       NA        NA                         NA\n",
            "NA.30       NA        NA                         NA\n",
            "NA.31       NA        NA                         NA\n",
            "NA.32       NA        NA                         NA\n",
            "NA.33       NA        NA                         NA\n",
            "NA.34       NA        NA                         NA\n",
            "NA.35       NA        NA                         NA\n",
            "NA.36       NA        NA                         NA\n",
            "NA.37       NA        NA                         NA\n",
            "NA.38       NA        NA                         NA\n",
            "NA.39       NA        NA                         NA\n",
            "NA.40       NA        NA                         NA\n",
            "NA.41       NA        NA                         NA\n",
            "NA.42       NA        NA                         NA\n",
            "NA.43       NA        NA                         NA\n",
            "NA.44       NA        NA                         NA\n",
            "NA.45       NA        NA                         NA\n",
            "NA.46       NA        NA                         NA\n",
            "NA.47       NA        NA                         NA\n",
            "NA.48       NA        NA                         NA\n",
            "NA.49       NA        NA                         NA\n",
            "NA.50       NA        NA                         NA\n",
            "NA.51       NA        NA                         NA\n",
            "NA.52       NA        NA                         NA\n",
            "NA.53       NA        NA                         NA\n",
            "NA.54       NA        NA                         NA\n",
            "NA.55       NA        NA                         NA\n",
            "NA.56       NA        NA                         NA\n",
            "NA.57       NA        NA                         NA\n",
            "NA.58       NA        NA                         NA\n",
            "NA.59       NA        NA                         NA\n",
            "NA.60       NA        NA                         NA\n",
            "NA.61       NA        NA                         NA\n",
            "NA.62       NA        NA                         NA\n",
            "NA.63       NA        NA                         NA\n",
            "NA.64       NA        NA                         NA\n",
            "NA.65       NA        NA                         NA\n",
            "NA.66       NA        NA                         NA\n",
            "NA.67       NA        NA                         NA\n",
            "NA.68       NA        NA                         NA\n",
            "NA.69       NA        NA                         NA\n",
            "NA.70       NA        NA                         NA\n",
            "NA.71       NA        NA                         NA\n",
            "NA.72       NA        NA                         NA\n",
            "NA.73       NA        NA                         NA\n",
            "NA.74       NA        NA                         NA\n",
            "NA.75       NA        NA                         NA\n",
            "NA.76       NA        NA                         NA\n",
            "NA.77       NA        NA                         NA\n",
            "NA.78       NA        NA                         NA\n",
            "NA.79       NA        NA                         NA\n",
            "NA.80       NA        NA                         NA\n",
            "NA.81       NA        NA                         NA\n",
            "NA.82       NA        NA                         NA\n",
            "NA.83       NA        NA                         NA\n",
            "NA.84       NA        NA                         NA\n",
            "NA.85       NA        NA                         NA\n",
            "NA.86       NA        NA                         NA\n",
            "NA.87       NA        NA                         NA\n",
            "NA.88       NA        NA                         NA\n",
            "NA.89       NA        NA                         NA\n",
            "NA.90       NA        NA                         NA\n",
            "NA.91       NA        NA                         NA\n",
            "NA.92       NA        NA                         NA\n",
            "NA.93       NA        NA                         NA\n",
            "NA.94       NA        NA                         NA\n",
            "NA.95       NA        NA                         NA\n",
            "NA.96       NA        NA                         NA\n",
            "NA.97       NA        NA                         NA\n",
            "NA.98       NA        NA                         NA\n",
            "NA.99       NA        NA                         NA\n",
            "NA.100      NA        NA                         NA\n",
            "NA.101      NA        NA                         NA\n",
            "NA.102      NA        NA                         NA\n",
            "NA.103      NA        NA                         NA\n",
            "NA.104      NA        NA                         NA\n",
            "NA.105      NA        NA                         NA\n",
            "NA.106      NA        NA                         NA\n",
            "NA.107      NA        NA                         NA\n",
            "NA.108      NA        NA                         NA\n",
            "NA.109      NA        NA                         NA\n",
            "NA.110      NA        NA                         NA\n",
            "NA.111      NA        NA                         NA\n",
            "NA.112      NA        NA                         NA\n",
            "NA.113      NA        NA                         NA\n",
            "NA.114      NA        NA                         NA\n",
            "NA.115      NA        NA                         NA\n",
            "NA.116      NA        NA                         NA\n",
            "NA.117      NA        NA                         NA\n",
            "NA.118      NA        NA                         NA\n",
            "NA.119      NA        NA                         NA\n",
            "NA.120      NA        NA                         NA\n",
            "NA.121      NA        NA                         NA\n",
            "NA.122      NA        NA                         NA\n",
            "NA.123      NA        NA                         NA\n",
            "NA.124      NA        NA                         NA\n",
            "NA.125      NA        NA                         NA\n",
            "NA.126      NA        NA                         NA\n",
            "NA.127      NA        NA                         NA\n",
            "NA.128      NA        NA                         NA\n",
            "NA.129      NA        NA                         NA\n",
            "NA.130      NA        NA                         NA\n",
            "NA.131      NA        NA                         NA\n",
            "NA.132      NA        NA                         NA\n",
            "NA.133      NA        NA                         NA\n",
            "NA.134      NA        NA                         NA\n",
            "NA.135      NA        NA                         NA\n",
            "NA.136      NA        NA                         NA\n",
            "NA.137      NA        NA                         NA\n",
            "NA.138      NA        NA                         NA\n",
            "NA.139      NA        NA                         NA\n",
            "NA.140      NA        NA                         NA\n",
            "NA.141      NA        NA                         NA\n",
            "NA.142      NA        NA                         NA\n",
            "NA.143      NA        NA                         NA\n",
            "NA.144      NA        NA                         NA\n",
            "NA.145      NA        NA                         NA\n",
            "NA.146      NA        NA                         NA\n",
            "NA.147      NA        NA                         NA\n",
            "NA.148      NA        NA                         NA\n",
            "NA.149      NA        NA                         NA\n",
            "NA.150      NA        NA                         NA\n",
            "NA.151      NA        NA                         NA\n",
            "NA.152      NA        NA                         NA\n",
            "NA.153      NA        NA                         NA\n",
            "NA.154      NA        NA                         NA\n",
            "NA.155      NA        NA                         NA\n",
            "NA.156      NA        NA                         NA\n",
            "NA.157      NA        NA                         NA\n",
            "NA.158      NA        NA                         NA\n",
            "NA.159      NA        NA                         NA\n",
            "NA.160      NA        NA                         NA\n",
            "NA.161      NA        NA                         NA\n",
            "NA.162      NA        NA                         NA\n",
            "NA.163      NA        NA                         NA\n",
            "NA.164      NA        NA                         NA\n",
            "NA.165      NA        NA                         NA\n",
            "NA.166      NA        NA                         NA\n",
            "NA.167      NA        NA                         NA\n",
            "NA.168      NA        NA                         NA\n",
            "NA.169      NA        NA                         NA\n",
            "NA.170      NA        NA                         NA\n",
            "NA.171      NA        NA                         NA\n",
            "[1] \"Germany data:\"\n",
            "       country confirmed confirmed.population.ratio\n",
            "NA          NA        NA                         NA\n",
            "NA.1        NA        NA                         NA\n",
            "NA.2        NA        NA                         NA\n",
            "NA.3        NA        NA                         NA\n",
            "NA.4        NA        NA                         NA\n",
            "NA.5        NA        NA                         NA\n",
            "NA.6        NA        NA                         NA\n",
            "NA.7        NA        NA                         NA\n",
            "NA.8        NA        NA                         NA\n",
            "NA.9        NA        NA                         NA\n",
            "NA.10       NA        NA                         NA\n",
            "NA.11       NA        NA                         NA\n",
            "NA.12       NA        NA                         NA\n",
            "NA.13       NA        NA                         NA\n",
            "NA.14       NA        NA                         NA\n",
            "NA.15       NA        NA                         NA\n",
            "NA.16       NA        NA                         NA\n",
            "NA.17       NA        NA                         NA\n",
            "NA.18       NA        NA                         NA\n",
            "NA.19       NA        NA                         NA\n",
            "NA.20       NA        NA                         NA\n",
            "NA.21       NA        NA                         NA\n",
            "NA.22       NA        NA                         NA\n",
            "NA.23       NA        NA                         NA\n",
            "NA.24       NA        NA                         NA\n",
            "NA.25       NA        NA                         NA\n",
            "NA.26       NA        NA                         NA\n",
            "NA.27       NA        NA                         NA\n",
            "NA.28       NA        NA                         NA\n",
            "NA.29       NA        NA                         NA\n",
            "NA.30       NA        NA                         NA\n",
            "NA.31       NA        NA                         NA\n",
            "NA.32       NA        NA                         NA\n",
            "NA.33       NA        NA                         NA\n",
            "NA.34       NA        NA                         NA\n",
            "NA.35       NA        NA                         NA\n",
            "NA.36       NA        NA                         NA\n",
            "NA.37       NA        NA                         NA\n",
            "NA.38       NA        NA                         NA\n",
            "NA.39       NA        NA                         NA\n",
            "NA.40       NA        NA                         NA\n",
            "NA.41       NA        NA                         NA\n",
            "NA.42       NA        NA                         NA\n",
            "NA.43       NA        NA                         NA\n",
            "NA.44       NA        NA                         NA\n",
            "NA.45       NA        NA                         NA\n",
            "NA.46       NA        NA                         NA\n",
            "NA.47       NA        NA                         NA\n",
            "NA.48       NA        NA                         NA\n",
            "NA.49       NA        NA                         NA\n",
            "NA.50       NA        NA                         NA\n",
            "NA.51       NA        NA                         NA\n",
            "NA.52       NA        NA                         NA\n",
            "NA.53       NA        NA                         NA\n",
            "NA.54       NA        NA                         NA\n",
            "NA.55       NA        NA                         NA\n",
            "NA.56       NA        NA                         NA\n",
            "NA.57       NA        NA                         NA\n",
            "NA.58       NA        NA                         NA\n",
            "NA.59       NA        NA                         NA\n",
            "NA.60       NA        NA                         NA\n",
            "NA.61       NA        NA                         NA\n",
            "NA.62       NA        NA                         NA\n",
            "NA.63       NA        NA                         NA\n",
            "NA.64       NA        NA                         NA\n",
            "NA.65       NA        NA                         NA\n",
            "NA.66       NA        NA                         NA\n",
            "NA.67       NA        NA                         NA\n",
            "NA.68       NA        NA                         NA\n",
            "NA.69       NA        NA                         NA\n",
            "NA.70       NA        NA                         NA\n",
            "NA.71       NA        NA                         NA\n",
            "NA.72       NA        NA                         NA\n",
            "NA.73       NA        NA                         NA\n",
            "NA.74       NA        NA                         NA\n",
            "NA.75       NA        NA                         NA\n",
            "NA.76       NA        NA                         NA\n",
            "NA.77       NA        NA                         NA\n",
            "NA.78       NA        NA                         NA\n",
            "NA.79       NA        NA                         NA\n",
            "NA.80       NA        NA                         NA\n",
            "NA.81       NA        NA                         NA\n",
            "NA.82       NA        NA                         NA\n",
            "NA.83       NA        NA                         NA\n",
            "NA.84       NA        NA                         NA\n",
            "NA.85       NA        NA                         NA\n",
            "NA.86       NA        NA                         NA\n",
            "NA.87       NA        NA                         NA\n",
            "NA.88       NA        NA                         NA\n",
            "NA.89       NA        NA                         NA\n",
            "NA.90       NA        NA                         NA\n",
            "NA.91       NA        NA                         NA\n",
            "NA.92       NA        NA                         NA\n",
            "NA.93       NA        NA                         NA\n",
            "NA.94       NA        NA                         NA\n",
            "NA.95       NA        NA                         NA\n",
            "NA.96       NA        NA                         NA\n",
            "NA.97       NA        NA                         NA\n",
            "NA.98       NA        NA                         NA\n",
            "NA.99       NA        NA                         NA\n",
            "NA.100      NA        NA                         NA\n",
            "NA.101      NA        NA                         NA\n",
            "NA.102      NA        NA                         NA\n",
            "NA.103      NA        NA                         NA\n",
            "NA.104      NA        NA                         NA\n",
            "NA.105      NA        NA                         NA\n",
            "NA.106      NA        NA                         NA\n",
            "NA.107      NA        NA                         NA\n",
            "NA.108      NA        NA                         NA\n",
            "NA.109      NA        NA                         NA\n",
            "NA.110      NA        NA                         NA\n",
            "NA.111      NA        NA                         NA\n",
            "NA.112      NA        NA                         NA\n",
            "NA.113      NA        NA                         NA\n",
            "NA.114      NA        NA                         NA\n",
            "NA.115      NA        NA                         NA\n",
            "NA.116      NA        NA                         NA\n",
            "NA.117      NA        NA                         NA\n",
            "NA.118      NA        NA                         NA\n",
            "NA.119      NA        NA                         NA\n",
            "NA.120      NA        NA                         NA\n",
            "NA.121      NA        NA                         NA\n",
            "NA.122      NA        NA                         NA\n",
            "NA.123      NA        NA                         NA\n",
            "NA.124      NA        NA                         NA\n",
            "NA.125      NA        NA                         NA\n",
            "NA.126      NA        NA                         NA\n",
            "NA.127      NA        NA                         NA\n",
            "NA.128      NA        NA                         NA\n",
            "NA.129      NA        NA                         NA\n",
            "NA.130      NA        NA                         NA\n",
            "NA.131      NA        NA                         NA\n",
            "NA.132      NA        NA                         NA\n",
            "NA.133      NA        NA                         NA\n",
            "NA.134      NA        NA                         NA\n",
            "NA.135      NA        NA                         NA\n",
            "NA.136      NA        NA                         NA\n",
            "NA.137      NA        NA                         NA\n",
            "NA.138      NA        NA                         NA\n",
            "NA.139      NA        NA                         NA\n",
            "NA.140      NA        NA                         NA\n",
            "NA.141      NA        NA                         NA\n",
            "NA.142      NA        NA                         NA\n",
            "NA.143      NA        NA                         NA\n",
            "NA.144      NA        NA                         NA\n",
            "NA.145      NA        NA                         NA\n",
            "NA.146      NA        NA                         NA\n",
            "NA.147      NA        NA                         NA\n",
            "NA.148      NA        NA                         NA\n",
            "NA.149      NA        NA                         NA\n",
            "NA.150      NA        NA                         NA\n",
            "NA.151      NA        NA                         NA\n",
            "NA.152      NA        NA                         NA\n",
            "NA.153      NA        NA                         NA\n",
            "NA.154      NA        NA                         NA\n",
            "NA.155      NA        NA                         NA\n",
            "NA.156      NA        NA                         NA\n",
            "NA.157      NA        NA                         NA\n",
            "NA.158      NA        NA                         NA\n",
            "NA.159      NA        NA                         NA\n",
            "NA.160      NA        NA                         NA\n",
            "NA.161      NA        NA                         NA\n",
            "NA.162      NA        NA                         NA\n",
            "NA.163      NA        NA                         NA\n",
            "NA.164      NA        NA                         NA\n",
            "NA.165      NA        NA                         NA\n",
            "NA.166      NA        NA                         NA\n",
            "NA.167      NA        NA                         NA\n",
            "NA.168      NA        NA                         NA\n",
            "NA.169      NA        NA                         NA\n",
            "NA.170      NA        NA                         NA\n",
            "NA.171      NA        NA                         NA\n"
          ]
        }
      ],
      "source": [
        "# Select a subset (should be only one row) of data frame based on a selected country name and columns\n",
        "country1_data <- covid_data_frame_csv[covid_data_frame_csv$country == \"United States\", c(\"country\", \"confirmed\", \"confirmed.population.ratio\")]\n",
        "print(\"United States data:\")\n",
        "print(country1_data)\n",
        "\n",
        "# Select a subset (should be only one row) of data frame based on a selected country name and columns\n",
        "country2_data <- covid_data_frame_csv[covid_data_frame_csv$country == \"Germany\", c(\"country\", \"confirmed\", \"confirmed.population.ratio\")]\n",
        "print(\"Germany data:\")\n",
        "print(country2_data)"
      ]
    },
    {
      "cell_type": "markdown",
      "id": "5f69c455-4061-4a64-a9e2-ef2f1f6edaa9",
      "metadata": {},
      "source": [
        "## TASK 9: Compare which one of the selected countries has a larger ratio of confirmed cases to population\n",
        "\n",
        "The goal of task 9 is to find out which country you have selected before has larger ratio of confirmed cases to population, which may indicate that country has higher COVID-19 infection risk\n"
      ]
    },
    {
      "cell_type": "code",
      "execution_count": 20,
      "id": "85d88bed-9b00-488c-98d3-e711febd785c",
      "metadata": {
        "vscode": {
          "languageId": "r"
        }
      },
      "outputs": [
        {
          "name": "stdout",
          "output_type": "stream",
          "text": [
            "[1] \"One or both countries have missing ratio data\"\n",
            "[1] \"US ratio: NA\"\n",
            "[1] \"Germany ratio: NA\"\n"
          ]
        }
      ],
      "source": [
        "# Use if-else statement\n",
        "# if (check which confirmed.population value is greater) {\n",
        "#    print()\n",
        "# } else {\n",
        "#    print()\n",
        "# }\n",
        "\n",
        "us_ratio <- country1_data$confirmed.population.ratio[1]\n",
        "germany_ratio <- country2_data$confirmed.population.ratio[1]\n",
        "\n",
        "# Check for missing values and handle them\n",
        "if (is.na(us_ratio) || is.na(germany_ratio)) {\n",
        "    print(\"One or both countries have missing ratio data\")\n",
        "    print(paste(\"US ratio:\", us_ratio))\n",
        "    print(paste(\"Germany ratio:\", germany_ratio))\n",
        "} else if (us_ratio > germany_ratio) {\n",
        "    print(paste(\"United States has a higher confirmed-to-population ratio:\", us_ratio, \"vs\", germany_ratio))\n",
        "} else {\n",
        "    print(paste(\"Germany has a higher confirmed-to-population ratio:\", germany_ratio, \"vs\", us_ratio))\n",
        "}"
      ]
    },
    {
      "cell_type": "markdown",
      "id": "1a85fa60-1e89-4360-8c4e-adb8312c9385",
      "metadata": {},
      "source": [
        "## TASK 10: Find countries with confirmed to population ratio rate less than a threshold\n",
        "\n",
        "The goal of task 10 is to find out which countries have the confirmed to population ratio less than 1%, it may indicate the risk of those countries are relatively low\n"
      ]
    },
    {
      "cell_type": "code",
      "execution_count": 21,
      "id": "8494ec1b-0d51-45c6-bf42-2608640f95ee",
      "metadata": {
        "vscode": {
          "languageId": "r"
        }
      },
      "outputs": [
        {
          "name": "stdout",
          "output_type": "stream",
          "text": [
            "[1] \"Countries with confirmed-to-population ratio less than 1 %:\"\n",
            "[1] country                    confirmed.population.ratio\n",
            "<0 rows> (or 0-length row.names)\n"
          ]
        }
      ],
      "source": [
        "# Get a subset of any countries with `confirmed.population.ratio` less than the threshold\n",
        "threshold <- 0.01  # 1%\n",
        "low_risk_countries <- covid_data_frame_csv[covid_data_frame_csv$confirmed.population.ratio < threshold, c(\"country\", \"confirmed.population.ratio\")]\n",
        "low_risk_countries <- low_risk_countries[!is.na(low_risk_countries$confirmed.population.ratio), ]\n",
        "\n",
        "print(paste(\"Countries with confirmed-to-population ratio less than\", threshold * 100, \"%:\"))\n",
        "print(low_risk_countries)"
      ]
    }
  ],
  "metadata": {
    "kernelspec": {
      "display_name": "R",
      "language": "R",
      "name": "ir"
    },
    "language_info": {
      "codemirror_mode": "r",
      "file_extension": ".r",
      "mimetype": "text/x-r-source",
      "name": "R",
      "pygments_lexer": "r",
      "version": "4.5.1"
    }
  },
  "nbformat": 4,
  "nbformat_minor": 4
}

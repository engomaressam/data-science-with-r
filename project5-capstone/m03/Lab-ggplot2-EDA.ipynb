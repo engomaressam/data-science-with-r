{
  "cells": [
    {
      "cell_type": "markdown",
      "metadata": {},
      "source": [
        "<center>\n",
        "<img src=\"https://cf-courses-data.s3.us.cloud-object-storage.appdomain.cloud/IBMDeveloperSkillsNetwork-RP0321EN-SkillsNetwork/labs/module_1/images/SN_web_lightmode.png\" width=\"300\"> \n",
        "</center>\n",
        "\n",
        "# Assignment: Exploratory Data Analysis with ggplot2\n",
        "Estimated time needed: 60 minutes\n",
        "\n",
        "# Introduction\n",
        "Using this R notebook you will perform exploratory data analysis on the Seoul Bike Sharing dataset using Tidyverse and ggplot2.\n"
      ]
    },
    {
      "cell_type": "markdown",
      "metadata": {},
      "source": [
        "### Setup libraries and load dataset\n",
        "We will use local datasets from your project directories."
      ]
    },
    {
      "cell_type": "code",
      "metadata": {},
      "outputs": [],
      "execution_count": null,
      "source": [
        "# Load libraries\n",
        "suppressPackageStartupMessages({\n",
        "  library(tidyverse)\n",
        "  library(lubridate)\n",
        "  library(ggplot2)\n",
        "})\n",
        "\n",
        "# Paths (Windows absolute paths as in the project)\n",
        "seoul_path <- \"C:/Users/Diaa/data.science.with.r/project5-capstone/output/seoul_bike_cleaned.csv\"\n",
        "\n",
        "# Read the cleaned Seoul dataset\n",
        "seoul_bike_sharing <- readr::read_csv(seoul_path, show_col_types = FALSE)\n",
        "# Normalize column names to uppercase for consistency with SQL notebook\n",
        "names(seoul_bike_sharing) <- toupper(names(seoul_bike_sharing))\n",
        "\n",
        "# Inspect the first few rows\n",
        "head(seoul_bike_sharing)"
      ]
    },
    {
      "cell_type": "markdown",
      "metadata": {},
      "source": [
        "### Task 1 — Recast DATE and HOURS\n",
        "Recast `DATE` to Date (DD/MM/YYYY) and `HOUR` to an ordered factor."
      ]
    },
    {
      "cell_type": "code",
      "metadata": {},
      "outputs": [],
      "execution_count": null,
      "source": [
        "# Parse DATE as Date (dataset uses DD/MM/YYYY)\n",
        "seoul_bike_sharing <- seoul_bike_sharing %>%\n",
        "  mutate(\n",
        "    DATE = lubridate::dmy(DATE),\n",
        "    HOUR = factor(HOUR, levels = 0:23, ordered = TRUE)\n",
        "  )\n",
        "\n",
        "str(seoul_bike_sharing)"
      ]
    },
    {
      "cell_type": "markdown",
      "metadata": {},
      "source": [
        "### Task 2 — Descriptive statistics\n",
        "Summarize key variables and check for missing values."
      ]
    },
    {
      "cell_type": "code",
      "metadata": {},
      "outputs": [],
      "execution_count": null,
      "source": [
        "# Summary of numeric columns\n",
        "seoul_bike_sharing %>%\n",
        "  select(RENTED_BIKE_COUNT, TEMPERATURE, HUMIDITY, WIND_SPEED, VISIBILITY,\n",
        "         DEW_POINT_TEMPERATURE, SOLAR_RADIATION, RAINFALL, SNOWFALL) %>%\n",
        "  summary()\n",
        "\n",
        "# Missing values by column\n",
        "colSums(is.na(seoul_bike_sharing))\n",
        "\n",
        "# Holiday-related records and percentage\n",
        "holiday_stats <- seoul_bike_sharing %>%\n",
        "  summarise(\n",
        "    total_rows = n(),\n",
        "    holiday_rows = sum(HOLIDAY == \"Holiday\", na.rm = TRUE),\n",
        "    holiday_pct = round(100 * holiday_rows / total_rows, 2)\n",
        "  )\n",
        "holiday_stats\n",
        "\n",
        "# Expected records given FUNCTIONING_DAY observations (count of rows marked 'Yes')\n",
        "functioning_count <- seoul_bike_sharing %>%\n",
        "  summarise(rows_yes = sum(FUNCTIONING_DAY == \"Yes\", na.rm = TRUE))\n",
        "functioning_count"
      ]
    },
    {
      "cell_type": "markdown",
      "metadata": {},
      "source": [
        "### Task 3 — Weather by Seasons\n",
        "Compute average rainfall and snowfall grouped by `SEASONS`."
      ]
    },
    {
      "cell_type": "code",
      "metadata": {},
      "outputs": [],
      "execution_count": null,
      "source": [
        "season_weather <- seoul_bike_sharing %>%\n",
        "  group_by(SEASONS) %>%\n",
        "  summarise(\n",
        "    avg_rainfall = mean(RAINFALL, na.rm = TRUE),\n",
        "    avg_snowfall = mean(SNOWFALL, na.rm = TRUE),\n",
        "    avg_bike = mean(RENTED_BIKE_COUNT, na.rm = TRUE)\n",
        "  ) %>%\n",
        "  arrange(desc(avg_bike))\n",
        "season_weather"
      ]
    },
    {
      "cell_type": "markdown",
      "metadata": {},
      "source": [
        "### Task 4 — Scatter: Rentals over Time\n",
        "Plot `RENTED_BIKE_COUNT` vs `DATE`."
      ]
    },
    {
      "cell_type": "code",
      "metadata": {},
      "outputs": [],
      "execution_count": null,
      "source": [
        "ggplot(seoul_bike_sharing, aes(x = DATE, y = RENTED_BIKE_COUNT)) +\n",
        "  geom_point(alpha = 0.2, color = \"steelblue\") +\n",
        "  labs(title = \"Rented Bike Count over Time\", x = \"Date\", y = \"Rented Bike Count\") +\n",
        "  theme_minimal()"
      ]
    },
    {
      "cell_type": "markdown",
      "metadata": {},
      "source": [
        "### Task 5 — Scatter: Rentals over Time colored by Hour\n",
        "Color by `HOUR` to see hourly patterns."
      ]
    },
    {
      "cell_type": "code",
      "metadata": {},
      "outputs": [],
      "execution_count": null,
      "source": [
        "ggplot(seoul_bike_sharing, aes(x = DATE, y = RENTED_BIKE_COUNT, color = HOUR)) +\n",
        "  geom_point(alpha = 0.4) +\n",
        "  labs(title = \"Rented Bike Count over Time by Hour\", x = \"Date\", y = \"Rented Bike Count\") +\n",
        "  theme_minimal() +\n",
        "  guides(color = guide_legend(title = \"Hour\"))"
      ]
    },
    {
      "cell_type": "markdown",
      "metadata": {},
      "source": [
        "### Task 6 — Histogram + Density: Rentals\n",
        "Visualize the distribution of `RENTED_BIKE_COUNT`."
      ]
    },
    {
      "cell_type": "code",
      "metadata": {},
      "outputs": [],
      "execution_count": null,
      "source": [
        "ggplot(seoul_bike_sharing, aes(x = RENTED_BIKE_COUNT)) +\n",
        "  geom_histogram(aes(y = ..density..), bins = 30, fill = \"gray85\", color = \"gray50\") +\n",
        "  geom_density(color = \"firebrick\", linewidth = 1) +\n",
        "  labs(title = \"Distribution of Rented Bike Count\", x = \"Rented Bike Count\", y = \"Density\") +\n",
        "  theme_minimal()"
      ]
    },
    {
      "cell_type": "markdown",
      "metadata": {},
      "source": [
        "### Task 7 — Scatter: Rentals vs Temperature by Season\n",
        "Explore how temperature relates to rentals across seasons."
      ]
    },
    {
      "cell_type": "code",
      "metadata": {},
      "outputs": [],
      "execution_count": null,
      "source": [
        "ggplot(seoul_bike_sharing, aes(x = TEMPERATURE, y = RENTED_BIKE_COUNT)) +\n",
        "  geom_point(alpha = 0.25, color = \"steelblue\") +\n",
        "  facet_wrap(~ SEASONS) +\n",
        "  labs(title = \"Rented Bike Count vs Temperature by Season\", x = \"Temperature (°C)\", y = \"Rented Bike Count\") +\n",
        "  theme_minimal()"
      ]
    },
    {
      "cell_type": "markdown",
      "metadata": {},
      "source": [
        "### Task 8 — Boxplot: Rentals by Hour and Season\n",
        "Compare rental count distributions across hours per season."
      ]
    },
    {
      "cell_type": "code",
      "metadata": {},
      "outputs": [],
      "execution_count": null,
      "source": [
        "ggplot(seoul_bike_sharing, aes(x = HOUR, y = RENTED_BIKE_COUNT, fill = SEASONS)) +\n",
        "  geom_boxplot(outlier.alpha = 0.2) +\n",
        "  labs(title = \"Rented Bike Count by Hour across Seasons\", x = \"Hour\", y = \"Rented Bike Count\") +\n",
        "  theme_minimal() +\n",
        "  theme(legend.position = \"bottom\")"
      ]
    },
    {
      "cell_type": "markdown",
      "metadata": {},
      "source": [
        "### Task 9 — Daily Rainfall and Snowfall\n",
        "Aggregate to daily totals and visualize over time."
      ]
    },
    {
      "cell_type": "code",
      "metadata": {},
      "outputs": [],
      "execution_count": null,
      "source": [
        "daily <- seoul_bike_sharing %>%\n",
        "  group_by(DATE) %>%\n",
        "  summarise(\n",
        "    daily_rainfall = sum(RAINFALL, na.rm = TRUE),\n",
        "    daily_snowfall = sum(SNOWFALL, na.rm = TRUE)\n",
        "  )\n",
        "\n",
        "# Plot daily rainfall\n",
        "ggplot(daily, aes(x = DATE, y = daily_rainfall)) +\n",
        "  geom_line(color = \"dodgerblue\") +\n",
        "  labs(title = \"Daily Rainfall in Seoul\", x = \"Date\", y = \"Rainfall (mm)\") +\n",
        "  theme_minimal()\n",
        "\n",
        "# Plot daily snowfall\n",
        "ggplot(daily, aes(x = DATE, y = daily_snowfall)) +\n",
        "  geom_line(color = \"darkslategray\") +\n",
        "  labs(title = \"Daily Snowfall in Seoul\", x = \"Date\", y = \"Snowfall (cm)\") +\n",
        "  theme_minimal()\n",
        "\n",
        "# Days with snowfall > 0\n",
        "days_with_snow <- sum(daily$daily_snowfall > 0, na.rm = TRUE)\n",
        "days_with_snow"
      ]
    },
    {
      "cell_type": "markdown",
      "metadata": {},
      "source": [
        "## Author(s)\n",
        "\n",
        "<h4> Jeff Grossman </h4>\n",
        "<h4> Lakshmi Holla </h4>\n",
        "\n",
        "## Other Contributor(s)\n",
        "\n",
        "<h4>  Malika Singla </h4>\n",
        "\n",
        "## <h3 align=\"center\"> © IBM Corporation 2022. All rights reserved. <h3/>\n"
      ]
    }
  ],
  "metadata": {
    "kernelspec": {
      "name": "ir",
      "display_name": "R",
      "language": "R"
    },
    "language_info": {
      "name": "R",
      "codemirror_mode": "r",
      "pygments_lexer": "r",
      "mimetype": "text/x-r-source",
      "file_extension": ".r",
      "version": "3.5.1"
    }
  },
  "nbformat": 4,
  "nbformat_minor": 4
}